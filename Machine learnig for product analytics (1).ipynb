{
 "cells": [
  {
   "cell_type": "code",
   "execution_count": 37,
   "id": "34bb6ca0",
   "metadata": {},
   "outputs": [
    {
     "name": "stdout",
     "output_type": "stream",
     "text": [
      "Requirement already satisfied: xgboost in c:\\users\\sarang\\anaconda3\\lib\\site-packages (1.7.6)\n",
      "Requirement already satisfied: numpy in c:\\users\\sarang\\anaconda3\\lib\\site-packages (from xgboost) (1.24.3)\n",
      "Requirement already satisfied: scipy in c:\\users\\sarang\\anaconda3\\lib\\site-packages (from xgboost) (1.10.1)\n"
     ]
    }
   ],
   "source": [
    "\n",
    "import numpy as np \n",
    "import pandas as pd\n",
    "!pip install xgboost \n"
   ]
  },
  {
   "cell_type": "code",
   "execution_count": 38,
   "id": "6c6d45e8",
   "metadata": {},
   "outputs": [],
   "source": [
    "import warnings\n",
    "warnings.filterwarnings('ignore')\n",
    "import matplotlib.pyplot as plt\n",
    "import seaborn as sns\n",
    "%matplotlib inline\n",
    "import datetime\n",
    "\n",
    "from sklearn.linear_model import LogisticRegression\n",
    "from sklearn.neighbors import KNeighborsClassifier\n",
    "from sklearn.naive_bayes import BernoulliNB\n",
    "from sklearn.ensemble import RandomForestClassifier\n",
    "from sklearn.feature_selection import SelectKBest, f_classif, chi2\n",
    "from sklearn.model_selection import train_test_split, cross_val_score\n",
    "from sklearn.model_selection import GridSearchCV\n",
    "from sklearn import metrics\n",
    "from sklearn import preprocessing\n",
    "from sklearn.preprocessing import MinMaxScaler\n",
    "from xgboost.sklearn import XGBClassifier\n",
    "from xgboost import plot_importance\n",
    "\n",
    "pd.set_option('display.max_rows', 500)\n",
    "pd.set_option('display.max_columns', 500)\n",
    "pd.set_option('display.width', 1000)\n",
    "pd.set_option('use_inf_as_na', True)\n",
    "random_state = 17"
   ]
  },
  {
   "cell_type": "code",
   "execution_count": 39,
   "id": "f44b5dc3",
   "metadata": {},
   "outputs": [
    {
     "data": {
      "text/plain": [
       "(1048575, 8)"
      ]
     },
     "execution_count": 39,
     "metadata": {},
     "output_type": "execute_result"
    }
   ],
   "source": [
    "full_df = pd.read_csv(\"product.csv\", sep=',')\n",
    "full_df.shape"
   ]
  },
  {
   "cell_type": "code",
   "execution_count": 40,
   "id": "b5bd4d86",
   "metadata": {},
   "outputs": [
    {
     "data": {
      "text/html": [
       "<div>\n",
       "<style scoped>\n",
       "    .dataframe tbody tr th:only-of-type {\n",
       "        vertical-align: middle;\n",
       "    }\n",
       "\n",
       "    .dataframe tbody tr th {\n",
       "        vertical-align: top;\n",
       "    }\n",
       "\n",
       "    .dataframe thead th {\n",
       "        text-align: right;\n",
       "    }\n",
       "</style>\n",
       "<table border=\"1\" class=\"dataframe\">\n",
       "  <thead>\n",
       "    <tr style=\"text-align: right;\">\n",
       "      <th></th>\n",
       "      <th>order_id</th>\n",
       "      <th>user_id</th>\n",
       "      <th>page_id</th>\n",
       "      <th>product</th>\n",
       "      <th>site_version</th>\n",
       "      <th>time</th>\n",
       "      <th>title</th>\n",
       "      <th>target</th>\n",
       "    </tr>\n",
       "  </thead>\n",
       "  <tbody>\n",
       "    <tr>\n",
       "      <th>0</th>\n",
       "      <td>cfcd208495d565ef66e7dff9f98764da</td>\n",
       "      <td>c81e728d9d4c2f636f067f89cc14862c</td>\n",
       "      <td>6f4922f45568161a8cdf4ad2299f6d23</td>\n",
       "      <td>sneakers</td>\n",
       "      <td>desktop</td>\n",
       "      <td>11-01-2019 09:24</td>\n",
       "      <td>banner_click</td>\n",
       "      <td>0</td>\n",
       "    </tr>\n",
       "    <tr>\n",
       "      <th>1</th>\n",
       "      <td>c4ca4238a0b923820dcc509a6f75849b</td>\n",
       "      <td>eccbc87e4b5ce2fe28308fd9f2a7baf3</td>\n",
       "      <td>4e732ced3463d06de0ca9a15b6153677</td>\n",
       "      <td>sneakers</td>\n",
       "      <td>desktop</td>\n",
       "      <td>09-01-2019 09:38</td>\n",
       "      <td>banner_show</td>\n",
       "      <td>0</td>\n",
       "    </tr>\n",
       "    <tr>\n",
       "      <th>2</th>\n",
       "      <td>c81e728d9d4c2f636f067f89cc14862c</td>\n",
       "      <td>eccbc87e4b5ce2fe28308fd9f2a7baf3</td>\n",
       "      <td>5c45a86277b8bf17bff6011be5cfb1b9</td>\n",
       "      <td>sports_nutrition</td>\n",
       "      <td>desktop</td>\n",
       "      <td>09-01-2019 09:12</td>\n",
       "      <td>banner_show</td>\n",
       "      <td>0</td>\n",
       "    </tr>\n",
       "    <tr>\n",
       "      <th>3</th>\n",
       "      <td>eccbc87e4b5ce2fe28308fd9f2a7baf3</td>\n",
       "      <td>eccbc87e4b5ce2fe28308fd9f2a7baf3</td>\n",
       "      <td>fb339ad311d50a229e497085aad219c7</td>\n",
       "      <td>company</td>\n",
       "      <td>desktop</td>\n",
       "      <td>03-01-2019 08:58</td>\n",
       "      <td>banner_show</td>\n",
       "      <td>0</td>\n",
       "    </tr>\n",
       "    <tr>\n",
       "      <th>4</th>\n",
       "      <td>a87ff679a2f3e71d9181a67b7542122c</td>\n",
       "      <td>eccbc87e4b5ce2fe28308fd9f2a7baf3</td>\n",
       "      <td>fb339ad311d50a229e497085aad219c7</td>\n",
       "      <td>company</td>\n",
       "      <td>desktop</td>\n",
       "      <td>03-01-2019 08:59</td>\n",
       "      <td>banner_click</td>\n",
       "      <td>0</td>\n",
       "    </tr>\n",
       "  </tbody>\n",
       "</table>\n",
       "</div>"
      ],
      "text/plain": [
       "                           order_id                           user_id                           page_id           product site_version              time         title  target\n",
       "0  cfcd208495d565ef66e7dff9f98764da  c81e728d9d4c2f636f067f89cc14862c  6f4922f45568161a8cdf4ad2299f6d23          sneakers      desktop  11-01-2019 09:24  banner_click       0\n",
       "1  c4ca4238a0b923820dcc509a6f75849b  eccbc87e4b5ce2fe28308fd9f2a7baf3  4e732ced3463d06de0ca9a15b6153677          sneakers      desktop  09-01-2019 09:38   banner_show       0\n",
       "2  c81e728d9d4c2f636f067f89cc14862c  eccbc87e4b5ce2fe28308fd9f2a7baf3  5c45a86277b8bf17bff6011be5cfb1b9  sports_nutrition      desktop  09-01-2019 09:12   banner_show       0\n",
       "3  eccbc87e4b5ce2fe28308fd9f2a7baf3  eccbc87e4b5ce2fe28308fd9f2a7baf3  fb339ad311d50a229e497085aad219c7           company      desktop  03-01-2019 08:58   banner_show       0\n",
       "4  a87ff679a2f3e71d9181a67b7542122c  eccbc87e4b5ce2fe28308fd9f2a7baf3  fb339ad311d50a229e497085aad219c7           company      desktop  03-01-2019 08:59  banner_click       0"
      ]
     },
     "execution_count": 40,
     "metadata": {},
     "output_type": "execute_result"
    }
   ],
   "source": [
    "full_df.head()"
   ]
  },
  {
   "cell_type": "code",
   "execution_count": null,
   "id": "ab9d8402",
   "metadata": {},
   "outputs": [],
   "source": []
  },
  {
   "cell_type": "code",
   "execution_count": 41,
   "id": "8cccb001",
   "metadata": {},
   "outputs": [
    {
     "name": "stdout",
     "output_type": "stream",
     "text": [
      "<class 'pandas.core.frame.DataFrame'>\n",
      "RangeIndex: 1048575 entries, 0 to 1048574\n",
      "Data columns (total 8 columns):\n",
      " #   Column        Non-Null Count    Dtype \n",
      "---  ------        --------------    ----- \n",
      " 0   order_id      1048575 non-null  object\n",
      " 1   user_id       1048575 non-null  object\n",
      " 2   page_id       1048575 non-null  object\n",
      " 3   product       1048575 non-null  object\n",
      " 4   site_version  1048575 non-null  object\n",
      " 5   time          1048575 non-null  object\n",
      " 6   title         1048575 non-null  object\n",
      " 7   target        1048575 non-null  int64 \n",
      "dtypes: int64(1), object(7)\n",
      "memory usage: 64.0+ MB\n"
     ]
    }
   ],
   "source": [
    "full_df.info()"
   ]
  },
  {
   "cell_type": "code",
   "execution_count": null,
   "id": "1636f31c",
   "metadata": {},
   "outputs": [],
   "source": []
  },
  {
   "cell_type": "code",
   "execution_count": 42,
   "id": "b1d305fe",
   "metadata": {},
   "outputs": [
    {
     "name": "stdout",
     "output_type": "stream",
     "text": [
      "order_id\n",
      "1    1048575\n",
      "dtype: int64\n",
      "\n",
      "\n",
      "page_id\n",
      "1    1048575\n",
      "dtype: int64\n",
      "\n",
      "\n",
      "title\n",
      "banner_show     914930\n",
      "banner_click    102840\n",
      "order            30805\n",
      "dtype: int64\n"
     ]
    }
   ],
   "source": [
    "for i in ('order_id', 'page_id'):#iterate columns\n",
    "    full_df[i] = full_df[i].fillna(0).apply(lambda x: x if x == 0 else 1)#fill nan with 0 and lamda function for nonzero to 1\n",
    "    print(full_df.groupby([i]).size().sort_values(ascending=False).head(2))#group by specified column and store counts to sort descending \n",
    "    print('\\n')\n",
    "print(full_df.groupby(['title']).size().sort_values(ascending=False).head())#default head 5\n",
    "\n",
    "full_df.drop(['order_id', 'page_id'], axis=1, inplace=True)"
   ]
  },
  {
   "cell_type": "code",
   "execution_count": 43,
   "id": "de7e8c5c",
   "metadata": {},
   "outputs": [
    {
     "data": {
      "text/html": [
       "<div>\n",
       "<style scoped>\n",
       "    .dataframe tbody tr th:only-of-type {\n",
       "        vertical-align: middle;\n",
       "    }\n",
       "\n",
       "    .dataframe tbody tr th {\n",
       "        vertical-align: top;\n",
       "    }\n",
       "\n",
       "    .dataframe thead th {\n",
       "        text-align: right;\n",
       "    }\n",
       "</style>\n",
       "<table border=\"1\" class=\"dataframe\">\n",
       "  <thead>\n",
       "    <tr style=\"text-align: right;\">\n",
       "      <th></th>\n",
       "      <th>user_id</th>\n",
       "      <th>product</th>\n",
       "      <th>site_version</th>\n",
       "      <th>time</th>\n",
       "      <th>title</th>\n",
       "      <th>target</th>\n",
       "    </tr>\n",
       "  </thead>\n",
       "  <tbody>\n",
       "    <tr>\n",
       "      <th>0</th>\n",
       "      <td>c81e728d9d4c2f636f067f89cc14862c</td>\n",
       "      <td>sneakers</td>\n",
       "      <td>desktop</td>\n",
       "      <td>11-01-2019 09:24</td>\n",
       "      <td>banner_click</td>\n",
       "      <td>0</td>\n",
       "    </tr>\n",
       "    <tr>\n",
       "      <th>1</th>\n",
       "      <td>eccbc87e4b5ce2fe28308fd9f2a7baf3</td>\n",
       "      <td>sneakers</td>\n",
       "      <td>desktop</td>\n",
       "      <td>09-01-2019 09:38</td>\n",
       "      <td>banner_show</td>\n",
       "      <td>0</td>\n",
       "    </tr>\n",
       "    <tr>\n",
       "      <th>2</th>\n",
       "      <td>eccbc87e4b5ce2fe28308fd9f2a7baf3</td>\n",
       "      <td>sports_nutrition</td>\n",
       "      <td>desktop</td>\n",
       "      <td>09-01-2019 09:12</td>\n",
       "      <td>banner_show</td>\n",
       "      <td>0</td>\n",
       "    </tr>\n",
       "    <tr>\n",
       "      <th>3</th>\n",
       "      <td>eccbc87e4b5ce2fe28308fd9f2a7baf3</td>\n",
       "      <td>company</td>\n",
       "      <td>desktop</td>\n",
       "      <td>03-01-2019 08:58</td>\n",
       "      <td>banner_show</td>\n",
       "      <td>0</td>\n",
       "    </tr>\n",
       "    <tr>\n",
       "      <th>4</th>\n",
       "      <td>eccbc87e4b5ce2fe28308fd9f2a7baf3</td>\n",
       "      <td>company</td>\n",
       "      <td>desktop</td>\n",
       "      <td>03-01-2019 08:59</td>\n",
       "      <td>banner_click</td>\n",
       "      <td>0</td>\n",
       "    </tr>\n",
       "  </tbody>\n",
       "</table>\n",
       "</div>"
      ],
      "text/plain": [
       "                            user_id           product site_version              time         title  target\n",
       "0  c81e728d9d4c2f636f067f89cc14862c          sneakers      desktop  11-01-2019 09:24  banner_click       0\n",
       "1  eccbc87e4b5ce2fe28308fd9f2a7baf3          sneakers      desktop  09-01-2019 09:38   banner_show       0\n",
       "2  eccbc87e4b5ce2fe28308fd9f2a7baf3  sports_nutrition      desktop  09-01-2019 09:12   banner_show       0\n",
       "3  eccbc87e4b5ce2fe28308fd9f2a7baf3           company      desktop  03-01-2019 08:58   banner_show       0\n",
       "4  eccbc87e4b5ce2fe28308fd9f2a7baf3           company      desktop  03-01-2019 08:59  banner_click       0"
      ]
     },
     "execution_count": 43,
     "metadata": {},
     "output_type": "execute_result"
    }
   ],
   "source": [
    "full_df.head()\n"
   ]
  },
  {
   "cell_type": "code",
   "execution_count": 44,
   "id": "5bbf25b2",
   "metadata": {},
   "outputs": [
    {
     "name": "stdout",
     "output_type": "stream",
     "text": [
      "\n",
      "\n",
      "product\n",
      "company             235185\n",
      "clothes             215973\n",
      "sneakers            205486\n",
      "accessories         196803\n",
      "sports_nutrition    195128\n",
      "dtype: int64\n",
      "\n",
      "\n",
      "site_version\n",
      "mobile     761333\n",
      "desktop    287242\n",
      "dtype: int64\n"
     ]
    },
    {
     "data": {
      "image/png": "[encoded data removed]",
      "text/plain": [
       "<Figure size 640x480 with 1 Axes>"
      ]
     },
     "metadata": {},
     "output_type": "display_data"
    },
    {
     "data": {
      "text/plain": [
       "<Axes: xlabel='site_version', ylabel='count'>"
      ]
     },
     "execution_count": 44,
     "metadata": {},
     "output_type": "execute_result"
    },
    {
     "data": {
      "image/png": "[encoded data removed]",
      "text/plain": [
       "<Figure size 640x480 with 1 Axes>"
      ]
     },
     "metadata": {},
     "output_type": "display_data"
    }
   ],
   "source": [
    "for i in ['product', 'site_version']:\n",
    "    print('\\n')\n",
    "    print(full_df.groupby([i]).size().sort_values(ascending=False).head())\n",
    "sns.countplot(data=full_df,x='product')\n",
    "plt.show()\n",
    "sns.countplot(data=full_df,x='site_version')"
   ]
  },
  {
   "cell_type": "code",
   "execution_count": 45,
   "id": "935a9339",
   "metadata": {},
   "outputs": [],
   "source": [
    "full_df = full_df.assign(num_conversion=full_df.groupby(['user_id'])['time'].rank(method='first', ascending=True))\n",
    "full_df['IsBanner_click'] = full_df['title'].apply(lambda x: 1 if x == 'banner_click' else 0)\n",
    "full_df['IsBanner_click'] = full_df.groupby('user_id').IsBanner_click.transform(np.mean).apply(lambda x: 0 if x == 0 else 1)\n",
    "full_df['IsFirst_conversion'] = full_df['num_conversion'].apply(lambda x: 1 if x == 1 else 0)\n",
    "full_df.drop(['user_id', 'title'], axis=1, inplace=True)\n"
   ]
  },
  {
   "cell_type": "code",
   "execution_count": 46,
   "id": "049052db",
   "metadata": {},
   "outputs": [
    {
     "data": {
      "text/html": [
       "<div>\n",
       "<style scoped>\n",
       "    .dataframe tbody tr th:only-of-type {\n",
       "        vertical-align: middle;\n",
       "    }\n",
       "\n",
       "    .dataframe tbody tr th {\n",
       "        vertical-align: top;\n",
       "    }\n",
       "\n",
       "    .dataframe thead th {\n",
       "        text-align: right;\n",
       "    }\n",
       "</style>\n",
       "<table border=\"1\" class=\"dataframe\">\n",
       "  <thead>\n",
       "    <tr style=\"text-align: right;\">\n",
       "      <th></th>\n",
       "      <th>product</th>\n",
       "      <th>site_version</th>\n",
       "      <th>time</th>\n",
       "      <th>target</th>\n",
       "      <th>num_conversion</th>\n",
       "      <th>IsBanner_click</th>\n",
       "      <th>IsFirst_conversion</th>\n",
       "    </tr>\n",
       "  </thead>\n",
       "  <tbody>\n",
       "    <tr>\n",
       "      <th>0</th>\n",
       "      <td>sneakers</td>\n",
       "      <td>desktop</td>\n",
       "      <td>11-01-2019 09:24</td>\n",
       "      <td>0</td>\n",
       "      <td>1.0</td>\n",
       "      <td>1</td>\n",
       "      <td>1</td>\n",
       "    </tr>\n",
       "    <tr>\n",
       "      <th>1</th>\n",
       "      <td>sneakers</td>\n",
       "      <td>desktop</td>\n",
       "      <td>09-01-2019 09:38</td>\n",
       "      <td>0</td>\n",
       "      <td>4.0</td>\n",
       "      <td>1</td>\n",
       "      <td>0</td>\n",
       "    </tr>\n",
       "    <tr>\n",
       "      <th>2</th>\n",
       "      <td>sports_nutrition</td>\n",
       "      <td>desktop</td>\n",
       "      <td>09-01-2019 09:12</td>\n",
       "      <td>0</td>\n",
       "      <td>3.0</td>\n",
       "      <td>1</td>\n",
       "      <td>0</td>\n",
       "    </tr>\n",
       "    <tr>\n",
       "      <th>3</th>\n",
       "      <td>company</td>\n",
       "      <td>desktop</td>\n",
       "      <td>03-01-2019 08:58</td>\n",
       "      <td>0</td>\n",
       "      <td>1.0</td>\n",
       "      <td>1</td>\n",
       "      <td>1</td>\n",
       "    </tr>\n",
       "    <tr>\n",
       "      <th>4</th>\n",
       "      <td>company</td>\n",
       "      <td>desktop</td>\n",
       "      <td>03-01-2019 08:59</td>\n",
       "      <td>0</td>\n",
       "      <td>2.0</td>\n",
       "      <td>1</td>\n",
       "      <td>0</td>\n",
       "    </tr>\n",
       "  </tbody>\n",
       "</table>\n",
       "</div>"
      ],
      "text/plain": [
       "            product site_version              time  target  num_conversion  IsBanner_click  IsFirst_conversion\n",
       "0          sneakers      desktop  11-01-2019 09:24       0             1.0               1                   1\n",
       "1          sneakers      desktop  09-01-2019 09:38       0             4.0               1                   0\n",
       "2  sports_nutrition      desktop  09-01-2019 09:12       0             3.0               1                   0\n",
       "3           company      desktop  03-01-2019 08:58       0             1.0               1                   1\n",
       "4           company      desktop  03-01-2019 08:59       0             2.0               1                   0"
      ]
     },
     "execution_count": 46,
     "metadata": {},
     "output_type": "execute_result"
    }
   ],
   "source": [
    "full_df.head()\n"
   ]
  },
  {
   "cell_type": "code",
   "execution_count": 47,
   "id": "273e136e",
   "metadata": {},
   "outputs": [],
   "source": [
    "full_df['time'] = pd.to_datetime(full_df['time'])\n",
    "full_df['time_IsMorning'] = full_df['time'].apply(lambda ts: 1 if (ts.hour >= 6) and (ts.hour < 10) else 0)\n",
    "full_df['time_IsDaylight'] = full_df['time'].apply(lambda ts: 1 if (ts.hour >= 10) and (ts.hour < 16) else 0)\n",
    "full_df['time_IsEvening'] = full_df['time'].apply(lambda ts: 1 if (ts.hour >= 16) and (ts.hour < 23) else 0)\n",
    "full_df['time_Hour'] = full_df['time'].apply(lambda ts: ts.hour)\n",
    "full_df['time_Day'] = full_df['time'].apply(lambda ts: ts.day)\n",
    "full_df['time_Week_Day'] = full_df['time'].apply(lambda ts: datetime.date(ts.year, ts.month, ts.day).weekday() + 1)\n",
    "full_df['time_Year_Month'] = full_df['time'].apply(lambda ts: ts.year * 100 + ts.month)\n",
    "full_df.drop(['time'], axis=1, inplace=True)"
   ]
  },
  {
   "cell_type": "code",
   "execution_count": 48,
   "id": "4d0908f4",
   "metadata": {},
   "outputs": [],
   "source": [
    "full_df['SV_IsMobile'] = full_df['site_version'].map({'desktop': 0, 'mobile': 1})\n",
    "full_df.drop(['site_version'], axis=1, inplace=True)"
   ]
  },
  {
   "cell_type": "code",
   "execution_count": 49,
   "id": "70867738",
   "metadata": {},
   "outputs": [],
   "source": [
    "full_df = pd.get_dummies(full_df, columns=['product'])\n"
   ]
  },
  {
   "cell_type": "code",
   "execution_count": 50,
   "id": "05b7f15d",
   "metadata": {},
   "outputs": [
    {
     "data": {
      "text/html": [
       "<div>\n",
       "<style scoped>\n",
       "    .dataframe tbody tr th:only-of-type {\n",
       "        vertical-align: middle;\n",
       "    }\n",
       "\n",
       "    .dataframe tbody tr th {\n",
       "        vertical-align: top;\n",
       "    }\n",
       "\n",
       "    .dataframe thead th {\n",
       "        text-align: right;\n",
       "    }\n",
       "</style>\n",
       "<table border=\"1\" class=\"dataframe\">\n",
       "  <thead>\n",
       "    <tr style=\"text-align: right;\">\n",
       "      <th></th>\n",
       "      <th>target</th>\n",
       "      <th>num_conversion</th>\n",
       "      <th>IsBanner_click</th>\n",
       "      <th>IsFirst_conversion</th>\n",
       "      <th>time_IsMorning</th>\n",
       "      <th>time_IsDaylight</th>\n",
       "      <th>time_IsEvening</th>\n",
       "      <th>time_Hour</th>\n",
       "      <th>time_Day</th>\n",
       "      <th>time_Week_Day</th>\n",
       "      <th>time_Year_Month</th>\n",
       "      <th>SV_IsMobile</th>\n",
       "      <th>product_accessories</th>\n",
       "      <th>product_clothes</th>\n",
       "      <th>product_company</th>\n",
       "      <th>product_sneakers</th>\n",
       "      <th>product_sports_nutrition</th>\n",
       "    </tr>\n",
       "  </thead>\n",
       "  <tbody>\n",
       "    <tr>\n",
       "      <th>0</th>\n",
       "      <td>0</td>\n",
       "      <td>1.0</td>\n",
       "      <td>1</td>\n",
       "      <td>1</td>\n",
       "      <td>1</td>\n",
       "      <td>0</td>\n",
       "      <td>0</td>\n",
       "      <td>9</td>\n",
       "      <td>1</td>\n",
       "      <td>5</td>\n",
       "      <td>201911</td>\n",
       "      <td>0</td>\n",
       "      <td>0</td>\n",
       "      <td>0</td>\n",
       "      <td>0</td>\n",
       "      <td>1</td>\n",
       "      <td>0</td>\n",
       "    </tr>\n",
       "    <tr>\n",
       "      <th>1</th>\n",
       "      <td>0</td>\n",
       "      <td>4.0</td>\n",
       "      <td>1</td>\n",
       "      <td>0</td>\n",
       "      <td>1</td>\n",
       "      <td>0</td>\n",
       "      <td>0</td>\n",
       "      <td>9</td>\n",
       "      <td>1</td>\n",
       "      <td>7</td>\n",
       "      <td>201909</td>\n",
       "      <td>0</td>\n",
       "      <td>0</td>\n",
       "      <td>0</td>\n",
       "      <td>0</td>\n",
       "      <td>1</td>\n",
       "      <td>0</td>\n",
       "    </tr>\n",
       "    <tr>\n",
       "      <th>2</th>\n",
       "      <td>0</td>\n",
       "      <td>3.0</td>\n",
       "      <td>1</td>\n",
       "      <td>0</td>\n",
       "      <td>1</td>\n",
       "      <td>0</td>\n",
       "      <td>0</td>\n",
       "      <td>9</td>\n",
       "      <td>1</td>\n",
       "      <td>7</td>\n",
       "      <td>201909</td>\n",
       "      <td>0</td>\n",
       "      <td>0</td>\n",
       "      <td>0</td>\n",
       "      <td>0</td>\n",
       "      <td>0</td>\n",
       "      <td>1</td>\n",
       "    </tr>\n",
       "    <tr>\n",
       "      <th>3</th>\n",
       "      <td>0</td>\n",
       "      <td>1.0</td>\n",
       "      <td>1</td>\n",
       "      <td>1</td>\n",
       "      <td>1</td>\n",
       "      <td>0</td>\n",
       "      <td>0</td>\n",
       "      <td>8</td>\n",
       "      <td>1</td>\n",
       "      <td>5</td>\n",
       "      <td>201903</td>\n",
       "      <td>0</td>\n",
       "      <td>0</td>\n",
       "      <td>0</td>\n",
       "      <td>1</td>\n",
       "      <td>0</td>\n",
       "      <td>0</td>\n",
       "    </tr>\n",
       "    <tr>\n",
       "      <th>4</th>\n",
       "      <td>0</td>\n",
       "      <td>2.0</td>\n",
       "      <td>1</td>\n",
       "      <td>0</td>\n",
       "      <td>1</td>\n",
       "      <td>0</td>\n",
       "      <td>0</td>\n",
       "      <td>8</td>\n",
       "      <td>1</td>\n",
       "      <td>5</td>\n",
       "      <td>201903</td>\n",
       "      <td>0</td>\n",
       "      <td>0</td>\n",
       "      <td>0</td>\n",
       "      <td>1</td>\n",
       "      <td>0</td>\n",
       "      <td>0</td>\n",
       "    </tr>\n",
       "  </tbody>\n",
       "</table>\n",
       "</div>"
      ],
      "text/plain": [
       "   target  num_conversion  IsBanner_click  IsFirst_conversion  time_IsMorning  time_IsDaylight  time_IsEvening  time_Hour  time_Day  time_Week_Day  time_Year_Month  SV_IsMobile  product_accessories  product_clothes  product_company  product_sneakers  product_sports_nutrition\n",
       "0       0             1.0               1                   1               1                0               0          9         1              5           201911            0                    0                0                0                 1                         0\n",
       "1       0             4.0               1                   0               1                0               0          9         1              7           201909            0                    0                0                0                 1                         0\n",
       "2       0             3.0               1                   0               1                0               0          9         1              7           201909            0                    0                0                0                 0                         1\n",
       "3       0             1.0               1                   1               1                0               0          8         1              5           201903            0                    0                0                1                 0                         0\n",
       "4       0             2.0               1                   0               1                0               0          8         1              5           201903            0                    0                0                1                 0                         0"
      ]
     },
     "execution_count": 50,
     "metadata": {},
     "output_type": "execute_result"
    }
   ],
   "source": [
    "full_df.head()"
   ]
  },
  {
   "cell_type": "code",
   "execution_count": 51,
   "id": "c36c8172",
   "metadata": {},
   "outputs": [],
   "source": [
    "access_df = full_df.drop(['product_clothes', 'product_company', 'product_sneakers', 'product_sports_nutrition'], axis=1)"
   ]
  },
  {
   "cell_type": "code",
   "execution_count": 52,
   "id": "01e17991",
   "metadata": {},
   "outputs": [
    {
     "name": "stdout",
     "output_type": "stream",
     "text": [
      "Perc. of banner click or show result:  0.5\n",
      "Perc. of order result:  0.5\n",
      "Total number of transactions in resampled data:  61610\n"
     ]
    }
   ],
   "source": [
    "number_records_fraud = len(full_df[full_df.target == 1])\n",
    "fraud_indices = np.array(full_df[full_df.target == 1].index)\n",
    "\n",
    "# Picking the indices of the normal classes\n",
    "normal_indices = full_df[full_df.target == 0].index\n",
    "\n",
    "# Out of the indices we picked, randomly select \"x\" number (number_records_fraud)\n",
    "random_normal_indices = np.random.choice(normal_indices, number_records_fraud, replace = False)\n",
    "random_normal_indices = np.array(random_normal_indices)\n",
    "\n",
    "# Appending the 2 indices\n",
    "under_sample_indices = np.concatenate([fraud_indices,random_normal_indices])\n",
    "\n",
    "# Under sample dataset\n",
    "under_sample_data = full_df.iloc[under_sample_indices,:]\n",
    "\n",
    "X = under_sample_data.loc[:, under_sample_data.columns != 'target']\n",
    "y = under_sample_data.loc[:, under_sample_data.columns == 'target']\n",
    "\n",
    "# Showing ratio\n",
    "print(\"Perc. of banner click or show result: \", len(under_sample_data[under_sample_data.target == 0])/len(under_sample_data))\n",
    "print(\"Perc. of order result: \", len(under_sample_data[under_sample_data.target == 1])/len(under_sample_data))\n",
    "print(\"Total number of transactions in resampled data: \", len(under_sample_data))"
   ]
  },
  {
   "cell_type": "code",
   "execution_count": 53,
   "id": "8e26ca04",
   "metadata": {},
   "outputs": [
    {
     "data": {
      "text/plain": [
       "((61610, 16), (61610, 1))"
      ]
     },
     "execution_count": 53,
     "metadata": {},
     "output_type": "execute_result"
    }
   ],
   "source": [
    "X.shape, y.shape"
   ]
  },
  {
   "cell_type": "code",
   "execution_count": 54,
   "id": "b5f0aeea",
   "metadata": {},
   "outputs": [
    {
     "data": {
      "text/html": [
       "<div>\n",
       "<style scoped>\n",
       "    .dataframe tbody tr th:only-of-type {\n",
       "        vertical-align: middle;\n",
       "    }\n",
       "\n",
       "    .dataframe tbody tr th {\n",
       "        vertical-align: top;\n",
       "    }\n",
       "\n",
       "    .dataframe thead th {\n",
       "        text-align: right;\n",
       "    }\n",
       "</style>\n",
       "<table border=\"1\" class=\"dataframe\">\n",
       "  <thead>\n",
       "    <tr style=\"text-align: right;\">\n",
       "      <th></th>\n",
       "      <th>num_conversion</th>\n",
       "      <th>IsBanner_click</th>\n",
       "      <th>IsFirst_conversion</th>\n",
       "      <th>time_IsMorning</th>\n",
       "      <th>time_IsDaylight</th>\n",
       "      <th>time_IsEvening</th>\n",
       "      <th>time_Hour</th>\n",
       "      <th>time_Day</th>\n",
       "      <th>time_Week_Day</th>\n",
       "      <th>time_Year_Month</th>\n",
       "      <th>SV_IsMobile</th>\n",
       "      <th>product_accessories</th>\n",
       "      <th>product_clothes</th>\n",
       "      <th>product_company</th>\n",
       "      <th>product_sneakers</th>\n",
       "      <th>product_sports_nutrition</th>\n",
       "    </tr>\n",
       "  </thead>\n",
       "  <tbody>\n",
       "    <tr>\n",
       "      <th>60</th>\n",
       "      <td>1.0</td>\n",
       "      <td>1</td>\n",
       "      <td>1</td>\n",
       "      <td>0</td>\n",
       "      <td>1</td>\n",
       "      <td>0</td>\n",
       "      <td>10</td>\n",
       "      <td>3</td>\n",
       "      <td>7</td>\n",
       "      <td>201903</td>\n",
       "      <td>0</td>\n",
       "      <td>0</td>\n",
       "      <td>0</td>\n",
       "      <td>0</td>\n",
       "      <td>0</td>\n",
       "      <td>1</td>\n",
       "    </tr>\n",
       "    <tr>\n",
       "      <th>106</th>\n",
       "      <td>2.0</td>\n",
       "      <td>1</td>\n",
       "      <td>0</td>\n",
       "      <td>0</td>\n",
       "      <td>0</td>\n",
       "      <td>1</td>\n",
       "      <td>21</td>\n",
       "      <td>2</td>\n",
       "      <td>5</td>\n",
       "      <td>201908</td>\n",
       "      <td>0</td>\n",
       "      <td>0</td>\n",
       "      <td>0</td>\n",
       "      <td>0</td>\n",
       "      <td>1</td>\n",
       "      <td>0</td>\n",
       "    </tr>\n",
       "    <tr>\n",
       "      <th>107</th>\n",
       "      <td>3.0</td>\n",
       "      <td>1</td>\n",
       "      <td>0</td>\n",
       "      <td>0</td>\n",
       "      <td>0</td>\n",
       "      <td>1</td>\n",
       "      <td>19</td>\n",
       "      <td>2</td>\n",
       "      <td>3</td>\n",
       "      <td>201910</td>\n",
       "      <td>0</td>\n",
       "      <td>0</td>\n",
       "      <td>1</td>\n",
       "      <td>0</td>\n",
       "      <td>0</td>\n",
       "      <td>0</td>\n",
       "    </tr>\n",
       "    <tr>\n",
       "      <th>165</th>\n",
       "      <td>1.0</td>\n",
       "      <td>0</td>\n",
       "      <td>1</td>\n",
       "      <td>0</td>\n",
       "      <td>1</td>\n",
       "      <td>0</td>\n",
       "      <td>10</td>\n",
       "      <td>2</td>\n",
       "      <td>7</td>\n",
       "      <td>201906</td>\n",
       "      <td>1</td>\n",
       "      <td>0</td>\n",
       "      <td>0</td>\n",
       "      <td>0</td>\n",
       "      <td>0</td>\n",
       "      <td>1</td>\n",
       "    </tr>\n",
       "    <tr>\n",
       "      <th>179</th>\n",
       "      <td>1.0</td>\n",
       "      <td>1</td>\n",
       "      <td>1</td>\n",
       "      <td>0</td>\n",
       "      <td>0</td>\n",
       "      <td>1</td>\n",
       "      <td>19</td>\n",
       "      <td>2</td>\n",
       "      <td>3</td>\n",
       "      <td>201910</td>\n",
       "      <td>1</td>\n",
       "      <td>1</td>\n",
       "      <td>0</td>\n",
       "      <td>0</td>\n",
       "      <td>0</td>\n",
       "      <td>0</td>\n",
       "    </tr>\n",
       "  </tbody>\n",
       "</table>\n",
       "</div>"
      ],
      "text/plain": [
       "     num_conversion  IsBanner_click  IsFirst_conversion  time_IsMorning  time_IsDaylight  time_IsEvening  time_Hour  time_Day  time_Week_Day  time_Year_Month  SV_IsMobile  product_accessories  product_clothes  product_company  product_sneakers  product_sports_nutrition\n",
       "60              1.0               1                   1               0                1               0         10         3              7           201903            0                    0                0                0                 0                         1\n",
       "106             2.0               1                   0               0                0               1         21         2              5           201908            0                    0                0                0                 1                         0\n",
       "107             3.0               1                   0               0                0               1         19         2              3           201910            0                    0                1                0                 0                         0\n",
       "165             1.0               0                   1               0                1               0         10         2              7           201906            1                    0                0                0                 0                         1\n",
       "179             1.0               1                   1               0                0               1         19         2              3           201910            1                    1                0                0                 0                         0"
      ]
     },
     "execution_count": 54,
     "metadata": {},
     "output_type": "execute_result"
    }
   ],
   "source": [
    "X.head()"
   ]
  },
  {
   "cell_type": "code",
   "execution_count": 55,
   "id": "9bb71fca",
   "metadata": {},
   "outputs": [],
   "source": [
    "stand_X = pd.DataFrame(preprocessing.scale(X), columns=X.columns)"
   ]
  },
  {
   "cell_type": "code",
   "execution_count": 56,
   "id": "868e922a",
   "metadata": {},
   "outputs": [],
   "source": [
    "class Feat_Importance:\n",
    "    df = None\n",
    "    columns = None\n",
    "    random_state = None\n",
    "    ranks = {}\n",
    "        \n",
    "    def __init__(self, X, y, columns, random_state=56, show_dict='N'):\n",
    "        self.X = X\n",
    "        self.y = y\n",
    "        self.names = columns\n",
    "        self.random_state = random_state\n",
    "        self.show_dict = show_dict\n",
    "        \n",
    "    def __rank_to_dict(self, ranks, names, order=1):\n",
    "        minmax = MinMaxScaler()#normalize feature score 0-1\n",
    "        ranks = minmax.fit_transform(order*np.array([ranks]).T).T[0]#normalize on specific order\n",
    "        ranks = map(lambda x: round(x, 2), ranks)#round values upto 2 decimal places\n",
    "        return dict(zip(names, ranks))\n",
    "    \n",
    "    def feat_stats(self):\n",
    "        self.ranks = {}\n",
    "        self.get_KBest()\n",
    "        self.get_LogReg()\n",
    "        self.get_XGBC()\n",
    "        \n",
    "    def get_KBest(self):#univariate top k based target values\n",
    "        selector = SelectKBest(f_classif)#anova f\n",
    "        selector.fit(self.X, self.y)#fit the model\n",
    "        scores = selector.scores_#obtain calculted scores\n",
    "        scores = pd.Series(scores).fillna(0)\n",
    "        self.ranks[\"KBest\"] = self.__rank_to_dict(scores, self.names)\n",
    "        if self.show_dict == 'Y': \n",
    "            print('===== KBest dict =====\\n', self.ranks[\"KBest\"], '\\n\\n\\n')\n",
    "            \n",
    "    def get_LogReg(self):\n",
    "        model_LogRegRidge = LogisticRegression(penalty='l2', C=0.15,#l2 to avoid overfitting  \n",
    "                                               random_state=self.random_state, solver='liblinear', \n",
    "                                               n_jobs=-1)\n",
    "        model_LogRegRidge.fit(self.X, self.y)\n",
    "        self.ranks[\"LogRegRidge\"] = self.__rank_to_dict(list(map(float, \n",
    "                                    model_LogRegRidge.coef_.reshape(len(self.names), -1))),\n",
    "                                    self.names, order=1)\n",
    "        \n",
    "        if self.show_dict == 'Y': \n",
    "            print('===== LogRegRidge dict =====\\n', self.ranks[\"LogRegRidge\"], '\\n\\n\\n')\n",
    "        \n",
    "    \n",
    "    def get_XGBC(self):\n",
    "        model_XGBC = XGBClassifier(objective='binary:logistic',\n",
    "                           max_depth=7, min_child_weight=5,\n",
    "                           gamma=0, random_state=random_state, n_jobs=-1,\n",
    "                           learning_rate=0.1, n_estimators=200)\n",
    "        model_XGBC.fit(self.X, self.y)\n",
    "        self.ranks[\"XGBC\"] = self.__rank_to_dict(model_XGBC.feature_importances_, self.names)\n",
    "        if self.show_dict == 'Y': \n",
    "            print('===== XGBClassifier dict =====\\n', self.ranks[\"XGBC\"], '\\n\\n\\n')\n",
    "       \n",
    "    def stats_df(self):\n",
    "        r = {}\n",
    "        for name in self.names:\n",
    "            r[name] = round(np.mean([self.ranks[method][name] for method in self.ranks.keys()]), 2)\n",
    "        methods = sorted(self.ranks.keys())\n",
    "        self.ranks['Mean'] = r\n",
    "        methods.append('Mean')\n",
    "\n",
    "        row_index, AllFeatures_columns = 0, ['Feature', 'Scores']\n",
    "        AllFeats = pd.DataFrame(columns=AllFeatures_columns)\n",
    "        for name in self.names:\n",
    "            AllFeats.loc[row_index, 'Feature'] = name\n",
    "            AllFeats.loc[row_index, 'Scores'] = [self.ranks[method][name] for method in methods]\n",
    "            row_index += 1\n",
    "        AllFeatures_only = pd.DataFrame(AllFeats.Scores.tolist(), )\n",
    "        AllFeatures_only.rename(columns={0: 'KBest', 1: 'LogRegRidge', 2: 'XGB Classifier', 3: 'Mean'}, inplace=True)\n",
    "        AllFeatures_only = AllFeatures_only[['KBest', 'LogRegRidge', 'XGB Classifier', 'Mean']]\n",
    "        AllFeatures_compare = AllFeats.join(AllFeatures_only).drop(['Scores'], axis=1)\n",
    "        return AllFeatures_compare\n",
    "    \n",
    "    def simple_test(self):\n",
    "        x_train, x_valid, y_train, y_valid = train_test_split(self.X, self.y, test_size=0.3, random_state=random_state+37)\n",
    "        mods = ('BernoulliNB', 'KNeighborsClassifier', 'RandomForestClassifier')\n",
    "        for nu, model in enumerate([BernoulliNB(), KNeighborsClassifier(n_jobs=-1), \n",
    "                      RandomForestClassifier(n_jobs=-1)]):\n",
    "            model.fit(x_train, y_train)\n",
    "            predicted = model.predict(x_valid)\n",
    "            print(mods[nu])\n",
    "            print('------ accuracy ------\\n', metrics.accuracy_score(y_valid, predicted))\n",
    "            #print('------ confusion_matrix ------\\n', metrics.confusion_matrix(y_valid, predicted))\n",
    "            print('------ roc_auc_score ------\\n', metrics.roc_auc_score(y_valid, predicted))\n",
    "            print('\\n')"
   ]
  },
  {
   "cell_type": "code",
   "execution_count": 57,
   "id": "37e42b5d",
   "metadata": {},
   "outputs": [
    {
     "data": {
      "text/html": [
       "<div>\n",
       "<style scoped>\n",
       "    .dataframe tbody tr th:only-of-type {\n",
       "        vertical-align: middle;\n",
       "    }\n",
       "\n",
       "    .dataframe tbody tr th {\n",
       "        vertical-align: top;\n",
       "    }\n",
       "\n",
       "    .dataframe thead th {\n",
       "        text-align: right;\n",
       "    }\n",
       "</style>\n",
       "<table border=\"1\" class=\"dataframe\">\n",
       "  <thead>\n",
       "    <tr style=\"text-align: right;\">\n",
       "      <th></th>\n",
       "      <th>Feature</th>\n",
       "      <th>KBest</th>\n",
       "      <th>LogRegRidge</th>\n",
       "      <th>XGB Classifier</th>\n",
       "      <th>Mean</th>\n",
       "    </tr>\n",
       "  </thead>\n",
       "  <tbody>\n",
       "    <tr>\n",
       "      <th>13</th>\n",
       "      <td>product_company</td>\n",
       "      <td>1.00</td>\n",
       "      <td>0.00</td>\n",
       "      <td>1.00</td>\n",
       "      <td>0.67</td>\n",
       "    </tr>\n",
       "    <tr>\n",
       "      <th>12</th>\n",
       "      <td>product_clothes</td>\n",
       "      <td>0.58</td>\n",
       "      <td>1.00</td>\n",
       "      <td>0.04</td>\n",
       "      <td>0.54</td>\n",
       "    </tr>\n",
       "    <tr>\n",
       "      <th>10</th>\n",
       "      <td>SV_IsMobile</td>\n",
       "      <td>0.61</td>\n",
       "      <td>0.47</td>\n",
       "      <td>0.10</td>\n",
       "      <td>0.39</td>\n",
       "    </tr>\n",
       "    <tr>\n",
       "      <th>1</th>\n",
       "      <td>IsBanner_click</td>\n",
       "      <td>0.09</td>\n",
       "      <td>0.89</td>\n",
       "      <td>0.03</td>\n",
       "      <td>0.34</td>\n",
       "    </tr>\n",
       "    <tr>\n",
       "      <th>14</th>\n",
       "      <td>product_sneakers</td>\n",
       "      <td>0.05</td>\n",
       "      <td>0.91</td>\n",
       "      <td>0.01</td>\n",
       "      <td>0.32</td>\n",
       "    </tr>\n",
       "    <tr>\n",
       "      <th>15</th>\n",
       "      <td>product_sports_nutrition</td>\n",
       "      <td>0.12</td>\n",
       "      <td>0.76</td>\n",
       "      <td>0.03</td>\n",
       "      <td>0.30</td>\n",
       "    </tr>\n",
       "    <tr>\n",
       "      <th>0</th>\n",
       "      <td>num_conversion</td>\n",
       "      <td>0.07</td>\n",
       "      <td>0.77</td>\n",
       "      <td>0.01</td>\n",
       "      <td>0.28</td>\n",
       "    </tr>\n",
       "    <tr>\n",
       "      <th>6</th>\n",
       "      <td>time_Hour</td>\n",
       "      <td>0.00</td>\n",
       "      <td>0.82</td>\n",
       "      <td>0.01</td>\n",
       "      <td>0.28</td>\n",
       "    </tr>\n",
       "    <tr>\n",
       "      <th>11</th>\n",
       "      <td>product_accessories</td>\n",
       "      <td>0.00</td>\n",
       "      <td>0.84</td>\n",
       "      <td>0.00</td>\n",
       "      <td>0.28</td>\n",
       "    </tr>\n",
       "    <tr>\n",
       "      <th>2</th>\n",
       "      <td>IsFirst_conversion</td>\n",
       "      <td>0.08</td>\n",
       "      <td>0.69</td>\n",
       "      <td>0.00</td>\n",
       "      <td>0.26</td>\n",
       "    </tr>\n",
       "    <tr>\n",
       "      <th>8</th>\n",
       "      <td>time_Week_Day</td>\n",
       "      <td>0.00</td>\n",
       "      <td>0.74</td>\n",
       "      <td>0.00</td>\n",
       "      <td>0.25</td>\n",
       "    </tr>\n",
       "    <tr>\n",
       "      <th>9</th>\n",
       "      <td>time_Year_Month</td>\n",
       "      <td>0.00</td>\n",
       "      <td>0.73</td>\n",
       "      <td>0.01</td>\n",
       "      <td>0.25</td>\n",
       "    </tr>\n",
       "    <tr>\n",
       "      <th>3</th>\n",
       "      <td>time_IsMorning</td>\n",
       "      <td>0.17</td>\n",
       "      <td>0.54</td>\n",
       "      <td>0.02</td>\n",
       "      <td>0.24</td>\n",
       "    </tr>\n",
       "    <tr>\n",
       "      <th>7</th>\n",
       "      <td>time_Day</td>\n",
       "      <td>0.00</td>\n",
       "      <td>0.72</td>\n",
       "      <td>0.01</td>\n",
       "      <td>0.24</td>\n",
       "    </tr>\n",
       "    <tr>\n",
       "      <th>4</th>\n",
       "      <td>time_IsDaylight</td>\n",
       "      <td>0.00</td>\n",
       "      <td>0.57</td>\n",
       "      <td>0.00</td>\n",
       "      <td>0.19</td>\n",
       "    </tr>\n",
       "    <tr>\n",
       "      <th>5</th>\n",
       "      <td>time_IsEvening</td>\n",
       "      <td>0.00</td>\n",
       "      <td>0.55</td>\n",
       "      <td>0.01</td>\n",
       "      <td>0.19</td>\n",
       "    </tr>\n",
       "  </tbody>\n",
       "</table>\n",
       "</div>"
      ],
      "text/plain": [
       "                     Feature  KBest  LogRegRidge  XGB Classifier  Mean\n",
       "13           product_company   1.00         0.00            1.00  0.67\n",
       "12           product_clothes   0.58         1.00            0.04  0.54\n",
       "10               SV_IsMobile   0.61         0.47            0.10  0.39\n",
       "1             IsBanner_click   0.09         0.89            0.03  0.34\n",
       "14          product_sneakers   0.05         0.91            0.01  0.32\n",
       "15  product_sports_nutrition   0.12         0.76            0.03  0.30\n",
       "0             num_conversion   0.07         0.77            0.01  0.28\n",
       "6                  time_Hour   0.00         0.82            0.01  0.28\n",
       "11       product_accessories   0.00         0.84            0.00  0.28\n",
       "2         IsFirst_conversion   0.08         0.69            0.00  0.26\n",
       "8              time_Week_Day   0.00         0.74            0.00  0.25\n",
       "9            time_Year_Month   0.00         0.73            0.01  0.25\n",
       "3             time_IsMorning   0.17         0.54            0.02  0.24\n",
       "7                   time_Day   0.00         0.72            0.01  0.24\n",
       "4            time_IsDaylight   0.00         0.57            0.00  0.19\n",
       "5             time_IsEvening   0.00         0.55            0.01  0.19"
      ]
     },
     "metadata": {},
     "output_type": "display_data"
    }
   ],
   "source": [
    "fi = Feat_Importance(stand_X, y, stand_X.columns)\n",
    "fi.feat_stats()\n",
    "fi_df = fi.stats_df()\n",
    "display(fi_df.sort_values(by=['Mean'], ascending=[False]))"
   ]
  },
  {
   "cell_type": "code",
   "execution_count": 58,
   "id": "6930ce3a",
   "metadata": {},
   "outputs": [
    {
     "name": "stdout",
     "output_type": "stream",
     "text": [
      "BernoulliNB\n",
      "------ accuracy ------\n",
      " 0.7183898717740627\n",
      "------ roc_auc_score ------\n",
      " 0.7177808378092002\n",
      "\n",
      "\n",
      "KNeighborsClassifier\n",
      "------ accuracy ------\n",
      " 0.7248823242980036\n",
      "------ roc_auc_score ------\n",
      " 0.7246185149115929\n",
      "\n",
      "\n",
      "RandomForestClassifier\n",
      "------ accuracy ------\n",
      " 0.723746145106314\n",
      "------ roc_auc_score ------\n",
      " 0.7235605555977145\n",
      "\n",
      "\n"
     ]
    }
   ],
   "source": [
    "fi.simple_test()"
   ]
  },
  {
   "cell_type": "code",
   "execution_count": 59,
   "id": "d0541e8d",
   "metadata": {},
   "outputs": [],
   "source": [
    "x_train, x_valid, y_train, y_valid = train_test_split(stand_X, y, test_size=0.3, random_state=random_state)"
   ]
  },
  {
   "cell_type": "code",
   "execution_count": 60,
   "id": "dc8c5274",
   "metadata": {},
   "outputs": [
    {
     "name": "stdout",
     "output_type": "stream",
     "text": [
      "RandomForestClassifier()\n",
      "best score / best params:  0.7545621098208919 {'max_depth': 9, 'max_features': 0.25, 'n_estimators': 30}\n",
      "classification_report: \n",
      "               precision    recall  f1-score   support\n",
      "\n",
      "           0       0.69      0.78      0.73      8178\n",
      "           1       0.81      0.72      0.76     10305\n",
      "\n",
      "    accuracy                           0.75     18483\n",
      "   macro avg       0.75      0.75      0.75     18483\n",
      "weighted avg       0.76      0.75      0.75     18483\n",
      "\n",
      "accuracy_score:  0.7494995401179462\n",
      "roc_auc_score:  0.7530026239319252\n"
     ]
    }
   ],
   "source": [
    "r_for = RandomForestClassifier()\n",
    "print(r_for)\n",
    "for_params = {'max_depth': np.arange(4, 10), 'max_features': np.arange(0.25, 0.5, 1), 'n_estimators': [30, 50, 60]}\n",
    "for_grid = GridSearchCV(r_for, for_params, cv=2, n_jobs=-1)\n",
    "for_grid.fit(x_train, y_train)\n",
    "print('best score / best params: ', for_grid.best_score_, for_grid.best_params_)\n",
    "y_pred = for_grid.predict(x_valid)\n",
    "print('classification_report: \\n', metrics.classification_report(y_pred, y_valid))\n",
    "print('accuracy_score: ', metrics.accuracy_score(y_pred, y_valid))\n",
    "print('roc_auc_score: ', metrics.roc_auc_score(y_pred, y_valid))"
   ]
  },
  {
   "cell_type": "code",
   "execution_count": 61,
   "id": "68fa187c",
   "metadata": {},
   "outputs": [
    {
     "name": "stdout",
     "output_type": "stream",
     "text": [
      "best score / best params:  0.7337862660343291 {'C': 0.01, 'penalty': 'l2'}\n",
      "classification_report: \n",
      "               precision    recall  f1-score   support\n",
      "\n",
      "           0       0.68      0.76      0.72      8336\n",
      "           1       0.78      0.71      0.74     10147\n",
      "\n",
      "    accuracy                           0.73     18483\n",
      "   macro avg       0.73      0.73      0.73     18483\n",
      "weighted avg       0.74      0.73      0.73     18483\n",
      "\n",
      "accuracy_score:  0.7305632202564519\n",
      "roc_auc_score:  0.7329293277969321\n"
     ]
    }
   ],
   "source": [
    "log_r = LogisticRegression()\n",
    "grid_values = {'penalty': ['l2'], 'C': [0.0001, 0.001, 0.01, 0.1]}\n",
    "lr_grid = GridSearchCV(log_r, param_grid=grid_values, cv=2, n_jobs=-1)\n",
    "lr_grid.fit(x_train, y_train)\n",
    "print('best score / best params: ', lr_grid.best_score_, lr_grid.best_params_)\n",
    "y_pred = lr_grid.predict(x_valid)\n",
    "print('classification_report: \\n', metrics.classification_report(y_pred, y_valid))\n",
    "print('accuracy_score: ', metrics.accuracy_score(y_pred, y_valid))\n",
    "print('roc_auc_score: ', metrics.roc_auc_score(y_pred, y_valid))\n",
    "\n"
   ]
  },
  {
   "cell_type": "code",
   "execution_count": 62,
   "id": "9c732865",
   "metadata": {},
   "outputs": [
    {
     "name": "stdout",
     "output_type": "stream",
     "text": [
      "[[    0 18764]\n",
      " [    1 20648]\n",
      " [    2 22198]]\n"
     ]
    }
   ],
   "source": [
    "cluster_stand_df = stand_X\n",
    "cluster_stand_df['target'] = preprocessing.scale(y)\n",
    "from sklearn.cluster import KMeans\n",
    "kmeans = KMeans(n_clusters=3, random_state=random_state).fit(cluster_stand_df)\n",
    "unique, counts = np.unique(kmeans.labels_, return_counts=True)\n",
    "print(np.asarray((unique, counts)).T)"
   ]
  },
  {
   "cell_type": "code",
   "execution_count": 63,
   "id": "dd6a7783",
   "metadata": {},
   "outputs": [
    {
     "data": {
      "text/plain": [
       "2    0.360299\n",
       "1    0.335140\n",
       "0    0.304561\n",
       "Name: Cluster, dtype: float64"
      ]
     },
     "execution_count": 63,
     "metadata": {},
     "output_type": "execute_result"
    }
   ],
   "source": [
    "cluster_df = X[[i for i in stand_X.columns if i != 'target']]\n",
    "cluster_df['target'] = y\n",
    "cluster_df['Cluster'] = kmeans.labels_ \n",
    "cluster_df['Cluster'].value_counts(normalize=True)"
   ]
  },
  {
   "cell_type": "code",
   "execution_count": 64,
   "id": "fa60bc22",
   "metadata": {},
   "outputs": [
    {
     "data": {
      "text/html": [
       "<div>\n",
       "<style scoped>\n",
       "    .dataframe tbody tr th:only-of-type {\n",
       "        vertical-align: middle;\n",
       "    }\n",
       "\n",
       "    .dataframe tbody tr th {\n",
       "        vertical-align: top;\n",
       "    }\n",
       "\n",
       "    .dataframe thead th {\n",
       "        text-align: right;\n",
       "    }\n",
       "</style>\n",
       "<table border=\"1\" class=\"dataframe\">\n",
       "  <thead>\n",
       "    <tr style=\"text-align: right;\">\n",
       "      <th></th>\n",
       "      <th>num_conversion</th>\n",
       "      <th>IsBanner_click</th>\n",
       "      <th>IsFirst_conversion</th>\n",
       "      <th>time_IsMorning</th>\n",
       "      <th>time_IsDaylight</th>\n",
       "      <th>time_IsEvening</th>\n",
       "      <th>time_Hour</th>\n",
       "      <th>time_Day</th>\n",
       "      <th>time_Week_Day</th>\n",
       "      <th>time_Year_Month</th>\n",
       "      <th>SV_IsMobile</th>\n",
       "      <th>product_accessories</th>\n",
       "      <th>product_clothes</th>\n",
       "      <th>product_company</th>\n",
       "      <th>product_sneakers</th>\n",
       "      <th>product_sports_nutrition</th>\n",
       "      <th>target</th>\n",
       "    </tr>\n",
       "    <tr>\n",
       "      <th>Cluster</th>\n",
       "      <th></th>\n",
       "      <th></th>\n",
       "      <th></th>\n",
       "      <th></th>\n",
       "      <th></th>\n",
       "      <th></th>\n",
       "      <th></th>\n",
       "      <th></th>\n",
       "      <th></th>\n",
       "      <th></th>\n",
       "      <th></th>\n",
       "      <th></th>\n",
       "      <th></th>\n",
       "      <th></th>\n",
       "      <th></th>\n",
       "      <th></th>\n",
       "      <th></th>\n",
       "    </tr>\n",
       "  </thead>\n",
       "  <tbody>\n",
       "    <tr>\n",
       "      <th>2</th>\n",
       "      <td>3.057077</td>\n",
       "      <td>0.450221</td>\n",
       "      <td>0.337147</td>\n",
       "      <td>0.000000</td>\n",
       "      <td>0.0</td>\n",
       "      <td>0.926615</td>\n",
       "      <td>18.947878</td>\n",
       "      <td>13.026714</td>\n",
       "      <td>3.940760</td>\n",
       "      <td>201903.830615</td>\n",
       "      <td>0.584647</td>\n",
       "      <td>0.190738</td>\n",
       "      <td>0.336111</td>\n",
       "      <td>0.102892</td>\n",
       "      <td>0.233670</td>\n",
       "      <td>0.136589</td>\n",
       "      <td>0.538427</td>\n",
       "    </tr>\n",
       "    <tr>\n",
       "      <th>0</th>\n",
       "      <td>2.985664</td>\n",
       "      <td>0.448678</td>\n",
       "      <td>0.357280</td>\n",
       "      <td>0.000000</td>\n",
       "      <td>1.0</td>\n",
       "      <td>0.000000</td>\n",
       "      <td>12.426881</td>\n",
       "      <td>12.934609</td>\n",
       "      <td>3.961096</td>\n",
       "      <td>201903.865434</td>\n",
       "      <td>0.601471</td>\n",
       "      <td>0.184182</td>\n",
       "      <td>0.326530</td>\n",
       "      <td>0.117246</td>\n",
       "      <td>0.227617</td>\n",
       "      <td>0.144425</td>\n",
       "      <td>0.485824</td>\n",
       "    </tr>\n",
       "    <tr>\n",
       "      <th>1</th>\n",
       "      <td>2.985858</td>\n",
       "      <td>0.450697</td>\n",
       "      <td>0.362747</td>\n",
       "      <td>0.586836</td>\n",
       "      <td>0.0</td>\n",
       "      <td>0.000000</td>\n",
       "      <td>5.613038</td>\n",
       "      <td>13.014868</td>\n",
       "      <td>3.955637</td>\n",
       "      <td>201903.811652</td>\n",
       "      <td>0.605095</td>\n",
       "      <td>0.182342</td>\n",
       "      <td>0.320903</td>\n",
       "      <td>0.121707</td>\n",
       "      <td>0.232081</td>\n",
       "      <td>0.142968</td>\n",
       "      <td>0.471571</td>\n",
       "    </tr>\n",
       "  </tbody>\n",
       "</table>\n",
       "</div>"
      ],
      "text/plain": [
       "         num_conversion  IsBanner_click  IsFirst_conversion  time_IsMorning  time_IsDaylight  time_IsEvening  time_Hour   time_Day  time_Week_Day  time_Year_Month  SV_IsMobile  product_accessories  product_clothes  product_company  product_sneakers  product_sports_nutrition    target\n",
       "Cluster                                                                                                                                                                                                                                                                                     \n",
       "2              3.057077        0.450221            0.337147        0.000000              0.0        0.926615  18.947878  13.026714       3.940760    201903.830615     0.584647             0.190738         0.336111         0.102892          0.233670                  0.136589  0.538427\n",
       "0              2.985664        0.448678            0.357280        0.000000              1.0        0.000000  12.426881  12.934609       3.961096    201903.865434     0.601471             0.184182         0.326530         0.117246          0.227617                  0.144425  0.485824\n",
       "1              2.985858        0.450697            0.362747        0.586836              0.0        0.000000   5.613038  13.014868       3.955637    201903.811652     0.605095             0.182342         0.320903         0.121707          0.232081                  0.142968  0.471571"
      ]
     },
     "execution_count": 64,
     "metadata": {},
     "output_type": "execute_result"
    }
   ],
   "source": [
    "cluster_df.groupby('Cluster').mean().sort_values(by=['target'], ascending=False)"
   ]
  },
  {
   "cell_type": "code",
   "execution_count": 65,
   "id": "82427f61",
   "metadata": {},
   "outputs": [
    {
     "name": "stdout",
     "output_type": "stream",
     "text": [
      "IsBanner_click\n"
     ]
    },
    {
     "data": {
      "image/png": "[encoded data removed]",
      "text/plain": [
       "<Figure size 600x300 with 1 Axes>"
      ]
     },
     "metadata": {},
     "output_type": "display_data"
    },
    {
     "name": "stdout",
     "output_type": "stream",
     "text": [
      "IsFirst_conversion\n"
     ]
    },
    {
     "data": {
      "image/png": "[encoded data removed]",
      "text/plain": [
       "<Figure size 600x300 with 1 Axes>"
      ]
     },
     "metadata": {},
     "output_type": "display_data"
    },
    {
     "name": "stdout",
     "output_type": "stream",
     "text": [
      "time_IsMorning\n"
     ]
    },
    {
     "data": {
      "image/png": "[encoded data removed]",
      "text/plain": [
       "<Figure size 600x300 with 1 Axes>"
      ]
     },
     "metadata": {},
     "output_type": "display_data"
    },
    {
     "name": "stdout",
     "output_type": "stream",
     "text": [
      "time_IsDaylight\n"
     ]
    },
    {
     "data": {
      "image/png": "[encoded data removed]",
      "text/plain": [
       "<Figure size 600x300 with 1 Axes>"
      ]
     },
     "metadata": {},
     "output_type": "display_data"
    },
    {
     "name": "stdout",
     "output_type": "stream",
     "text": [
      "time_IsEvening\n"
     ]
    },
    {
     "data": {
      "image/png": "[encoded data removed]",
      "text/plain": [
       "<Figure size 600x300 with 1 Axes>"
      ]
     },
     "metadata": {},
     "output_type": "display_data"
    },
    {
     "name": "stdout",
     "output_type": "stream",
     "text": [
      "SV_IsMobile\n"
     ]
    },
    {
     "data": {
      "image/png": "[encoded data removed]",
      "text/plain": [
       "<Figure size 600x300 with 1 Axes>"
      ]
     },
     "metadata": {},
     "output_type": "display_data"
    }
   ],
   "source": [
    "feat = [f for f in cluster_df.columns if 'Is' in f]\n",
    "for i in feat:\n",
    "    print(i)\n",
    "    plt.figure()\n",
    "    tmp = cluster_df[cluster_df[i] == 1]\n",
    "    tmp['target'].hist(figsize=(6, 3), bins=2, color = 'red')\n",
    "    plt.show();"
   ]
  },
  {
   "cell_type": "code",
   "execution_count": 66,
   "id": "1856edbf",
   "metadata": {},
   "outputs": [
    {
     "name": "stdout",
     "output_type": "stream",
     "text": [
      "time_IsMorning\n"
     ]
    },
    {
     "data": {
      "image/png": "[encoded data removed]",
      "text/plain": [
       "<Figure size 500x300 with 1 Axes>"
      ]
     },
     "metadata": {},
     "output_type": "display_data"
    },
    {
     "name": "stdout",
     "output_type": "stream",
     "text": [
      "time_IsDaylight\n"
     ]
    },
    {
     "data": {
      "image/png": "[encoded data removed]",
      "text/plain": [
       "<Figure size 500x300 with 1 Axes>"
      ]
     },
     "metadata": {},
     "output_type": "display_data"
    },
    {
     "name": "stdout",
     "output_type": "stream",
     "text": [
      "time_IsEvening\n"
     ]
    },
    {
     "data": {
      "image/png": "[encoded data removed]",
      "text/plain": [
       "<Figure size 500x300 with 1 Axes>"
      ]
     },
     "metadata": {},
     "output_type": "display_data"
    },
    {
     "name": "stdout",
     "output_type": "stream",
     "text": [
      "time_Hour\n"
     ]
    },
    {
     "data": {
      "image/png": "[encoded data removed]",
      "text/plain": [
       "<Figure size 500x300 with 1 Axes>"
      ]
     },
     "metadata": {},
     "output_type": "display_data"
    },
    {
     "name": "stdout",
     "output_type": "stream",
     "text": [
      "time_Day\n"
     ]
    },
    {
     "data": {
      "image/png": "[encoded data removed]",
      "text/plain": [
       "<Figure size 500x300 with 1 Axes>"
      ]
     },
     "metadata": {},
     "output_type": "display_data"
    },
    {
     "name": "stdout",
     "output_type": "stream",
     "text": [
      "time_Week_Day\n"
     ]
    },
    {
     "data": {
      "image/png": "[encoded data removed]",
      "text/plain": [
       "<Figure size 500x300 with 1 Axes>"
      ]
     },
     "metadata": {},
     "output_type": "display_data"
    },
    {
     "name": "stdout",
     "output_type": "stream",
     "text": [
      "time_Year_Month\n"
     ]
    },
    {
     "data": {
      "image/png": "[encoded data removed]",
      "text/plain": [
       "<Figure size 500x300 with 1 Axes>"
      ]
     },
     "metadata": {},
     "output_type": "display_data"
    }
   ],
   "source": [
    "feat = [f for f in cluster_df.columns if 'time' in f]\n",
    "for i in feat:\n",
    "    print(i)\n",
    "    plt.figure()\n",
    "    cluster_df[cluster_df['target'] == 1][i].hist(figsize=(5, 3), alpha=0.4, color = 'green')\n",
    "    cluster_df[cluster_df['target'] == 0][i].hist(figsize=(5, 3), alpha=0.4, color = 'red')\n",
    "    plt.show();"
   ]
  },
  {
   "cell_type": "code",
   "execution_count": null,
   "id": "067d82c5",
   "metadata": {},
   "outputs": [],
   "source": []
  },
  {
   "cell_type": "code",
   "execution_count": null,
   "id": "c1e67b6a",
   "metadata": {},
   "outputs": [],
   "source": []
  },
  {
   "cell_type": "code",
   "execution_count": null,
   "id": "65689b3a",
   "metadata": {},
   "outputs": [],
   "source": []
  },
  {
   "cell_type": "code",
   "execution_count": null,
   "id": "d5c766d9",
   "metadata": {},
   "outputs": [],
   "source": []
  },
  {
   "cell_type": "code",
   "execution_count": null,
   "id": "00ad40c9",
   "metadata": {},
   "outputs": [],
   "source": []
  }
 ],
 "metadata": {
  "kernelspec": {
   "display_name": "Python 3 (ipykernel)",
   "language": "python",
   "name": "python3"
  },
  "language_info": {
   "codemirror_mode": {
    "name": "ipython",
    "version": 3
   },
   "file_extension": ".py",
   "mimetype": "text/x-python",
   "name": "python",
   "nbconvert_exporter": "python",
   "pygments_lexer": "ipython3",
   "version": "3.11.3"
  }
 },
 "nbformat": 4,
 "nbformat_minor": 5
}
